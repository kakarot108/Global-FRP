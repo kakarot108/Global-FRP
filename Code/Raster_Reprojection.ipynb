import rasterio
from rasterio.warp import calculate_default_transform, reproject, Resampling
import glob
import os

# Directory where your files are located
input_dir = "/Users/ceedindia/Documents/FIRE/Data"
output_dir = "/Users/ceedindia/Documents/FIRE/Proj"
os.makedirs(output_dir, exist_ok=True)

# Iterate through each file in the directory
for file_path in glob.glob(os.path.join(input_dir, "*.tif")):
    with rasterio.open(file_path) as src:
        # Define target CRS
        dst_crs = 'EPSG:4326'
        
        # Calculate transform and dimensions
        transform, width, height = calculate_default_transform(
            src.crs, dst_crs, src.width, src.height, *src.bounds
        )
        
        # Define metadata for the output file
        kwargs = src.meta.copy()
        kwargs.update({
            'crs': dst_crs,
            'transform': transform,
            'width': width,
            'height': height
        })
        
        # Define output file path
        output_file_path = os.path.join(output_dir, os.path.basename(file_path).replace(".tif", "_reprojected.tif"))
        
        # Reproject and save
        with rasterio.open(output_file_path, 'w', **kwargs) as dst:
            for i in range(1, src.count + 1):
                reproject(
                    source=rasterio.band(src, i),
                    destination=rasterio.band(dst, i),
                    src_transform=src.transform,
                    src_crs=src.crs,
                    dst_transform=transform,
                    dst_crs=dst_crs,
                    resampling=Resampling.nearest
                )
        print(f"Reprojected and saved {output_file_path}")
