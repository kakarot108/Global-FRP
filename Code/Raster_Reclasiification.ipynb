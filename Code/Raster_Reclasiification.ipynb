import rasterio
import numpy as np

# Load the NDVI Tau raster
input_file = "/Users/ceedindia/Documents/FIRE/Global_NDVI_Tau.tif"
output_file = "/Users/ceedindia/Documents/FIRE/Global_NDVI_Tau_Classified_1.tif"

# Define the breaks at intervals of 0.25 from -1 to 1
breaks = np.arange(-1, 1.25, 0.25)  # Including 1 to cover the upper bound

# Function to classify raster values
def classify(values, breaks):
    return np.digitize(values, bins=breaks, right=False)

# Open the raster file for reading
with rasterio.open(input_file) as src:
    # Define metadata for the output file
    meta = src.meta
    meta.update(dtype=rasterio.uint8, nodata=255)  # Set nodata to 255 for compatibility with uint8

    # Create output file
    with rasterio.open(output_file, 'w', **meta) as dst:
        # Process the raster in chunks (windows)
        for ji, window in src.block_windows(1):
            # Read the data for the current window
            tau_data = src.read(1, window=window)
            
            # Classify the data
            classified_data = classify(tau_data, breaks=breaks)
            
            # Set 0 values as 255 (nodata)
            classified_data[classified_data == 0] = 255
            
            # Write the classified data to the output raster
            dst.write(classified_data.astype(rasterio.uint8), 1, window=window)

print("Classified raster saved as:", output_file)
