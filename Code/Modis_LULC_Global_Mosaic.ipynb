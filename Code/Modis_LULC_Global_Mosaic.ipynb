import rasterio
from rasterio.merge import merge
import glob
import os
import re

# Set the path where your TIFF files are stored
folder_path = "/Users/ceedindia/Documents/FIRE/LULC"  # Update this with the actual path

# List to store file paths for each year
file_paths_by_year = {}

# Populate file_paths_by_year by grouping files by year
for filepath in glob.glob(os.path.join(folder_path, "*.tif")):
    filename = os.path.basename(filepath)
    
    # Use regex to extract the year from the filename
    match = re.search(r'Reclass_(\d{4})', filename)
    if match:
        year = match.group(1)  # Extract the matched year
    else:
        print(f"Year not found in filename {filename}")
        continue

    if year not in file_paths_by_year:
        file_paths_by_year[year] = []
    file_paths_by_year[year].append(filepath)
    print(f"Added {filename} to year {year}")

# Output folder to save the mosaics
output_folder = "/Users/ceedindia/Documents/FIRE/LULC_Mosaic"  # Update this with the actual path
os.makedirs(output_folder, exist_ok=True)

# Mosaic files for each year
for year, filepaths in file_paths_by_year.items():
    print(f"\nProcessing year: {year}")
    # Open all the files for the year
    rasters = [rasterio.open(fp) for fp in filepaths]

    # Mosaic the files
    mosaic, transform = merge(rasters)

    # Define metadata for the output
    meta = rasters[0].meta.copy()
    meta.update({
        "driver": "GTiff",
        "height": mosaic.shape[1],
        "width": mosaic.shape[2],
        "transform": transform
    })

    # Save the mosaic to a new file with the year in the filename
    output_path = os.path.join(output_folder, f"LULC_MODIS_Mosaic_Reclass_{year}.tif")
    
    # Print a message before saving each file
    print(f"Saving mosaic for year {year} to {output_path}")
    with rasterio.open(output_path, "w", **meta) as dest:
        dest.write(mosaic)

    # Close the opened rasters
    for raster in rasters:
        raster.close()

    print(f"Mosaic for {year} saved successfully as {output_path}")

print("All mosaics created successfully.")
